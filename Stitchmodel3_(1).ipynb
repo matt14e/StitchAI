{
  "cells": [
    {
      "cell_type": "markdown",
      "metadata": {
        "id": "view-in-github",
        "colab_type": "text"
      },
      "source": [
        "<a href=\"https://colab.research.google.com/github/matt14e/StitchAI/blob/main/Stitchmodel3_(1).ipynb\" target=\"_parent\"><img src=\"https://colab.research.google.com/assets/colab-badge.svg\" alt=\"Open In Colab\"/></a>"
      ]
    },
    {
      "cell_type": "code",
      "execution_count": null,
      "metadata": {
        "id": "qLNwskXOkXEr"
      },
      "outputs": [],
      "source": [
        "!pip -q install lightning torchvision pyembroidery pillow"
      ]
    },
    {
      "cell_type": "code",
      "execution_count": null,
      "metadata": {
        "id": "tyrao3aZkljC"
      },
      "outputs": [],
      "source": [
        "from google.colab import drive\n",
        "drive.mount('/content/drive')"
      ]
    },
    {
      "cell_type": "code",
      "source": [
        "import glob, pathlib, textwrap, os\n",
        "\n",
        "# List every .ipynb file reachable from the current directory\n",
        "candidates = glob.glob(\"**/*.ipynb\", recursive=True)\n",
        "\n",
        "print(textwrap.dedent(f\"\"\"\n",
        "    🔍 Found {len(candidates)} notebook(s):\n",
        "    ----------------------------------------\n",
        "    {os.linesep.join(candidates) or '(none)'}\n",
        "\"\"\"))\n"
      ],
      "metadata": {
        "id": "g-cZzvDeVbAz"
      },
      "execution_count": null,
      "outputs": []
    },
    {
      "cell_type": "code",
      "source": [
        "# ▶︎ 2.  Install nbformat (small dependency)\n",
        "!pip -q install nbformat\n",
        "import nbformat\n",
        "\n",
        "# ▶︎ 3.  ABSOLUTE path to your notebook  ←── copy-paste exactly as shown\n",
        "nb_path = \"drive/MyDrive/Colab Notebooks/Stitchmodel3 (1).ipynb\"\n",
        "\n",
        "# ▶︎ 4.  Load → strip bad widgets → save\n",
        "with open(nb_path, encoding=\"utf-8\") as f:\n",
        "    nb = nbformat.read(f, as_version=nbformat.NO_CONVERT)\n",
        "\n",
        "removed = nb.metadata.pop(\"widgets\", None)   # drop entire widgets block\n",
        "\n",
        "with open(nb_path, \"w\", encoding=\"utf-8\") as f:\n",
        "    nbformat.write(nb, f)\n",
        "\n",
        "print(\n",
        "    f\"✅ Cleaned '{nb_path}'. \"\n",
        "    + (\"widgets metadata removed.\" if removed else \"No widgets metadata found.\")\n",
        ")"
      ],
      "metadata": {
        "id": "mApV2yChVI_s"
      },
      "execution_count": null,
      "outputs": []
    },
    {
      "cell_type": "code",
      "source": [
        "#patch cell\n",
        "# 🛠  Make GitHub happy: ensure metadata.widgets.state exists\n",
        "import nbformat, os, io, json, IPython\n",
        "\n",
        "nb_path = os.environ[\"COLAB_NOTEBOOK_NAME\"]      # always the open notebook\n",
        "print(\"↪︎ Patching\", nb_path)\n",
        "\n",
        "# -- read current in-memory file -------------\n",
        "with open(nb_path, encoding=\"utf-8\") as f:\n",
        "    nb = nbformat.read(f, as_version=nbformat.NO_CONVERT)\n",
        "\n",
        "# -- guarantee valid widgets structure -------\n",
        "widgets = nb.metadata.setdefault(\"widgets\", {})\n",
        "widgets.setdefault(\"state\", {})                 # <- the missing bit!\n",
        "\n",
        "# -- write back in place ----------------------\n",
        "with open(nb_path, \"w\", encoding=\"utf-8\") as f:\n",
        "    nbformat.write(nb, f)\n",
        "\n",
        "print(\"✅ Added empty widgets.state — now click File ▸ Save a copy in GitHub\")\n"
      ],
      "metadata": {
        "id": "k-jPpQMp6Zes"
      },
      "execution_count": null,
      "outputs": []
    },
    {
      "cell_type": "code",
      "source": [
        "# 🛠 Make GitHub happy: be sure metadata.widgets.state exists\n",
        "import nbformat, os, glob, pathlib, textwrap\n",
        "\n",
        "# 1) Try env-var first, else auto-detect in cwd, else manual fallback\n",
        "nb_path = os.environ.get(\"COLAB_NOTEBOOK_NAME\")\n",
        "if not nb_path:\n",
        "    matches = glob.glob(\"*.ipynb\")\n",
        "    if len(matches) == 1:\n",
        "        nb_path = matches[0]                            # unique match\n",
        "    else:\n",
        "        raise FileNotFoundError(textwrap.dedent(f\"\"\"\n",
        "            Couldn't auto-detect the notebook file.\n",
        "            Please set nb_path manually, e.g.:\n",
        "                nb_path = \"drive/MyDrive/Colab Notebooks/Stitchmodel3 (1).ipynb\"\n",
        "        \"\"\"))\n",
        "\n",
        "print(\"↪︎ Patching →\", nb_path)\n",
        "\n",
        "# 2) Load, patch, save\n",
        "with open(nb_path, encoding=\"utf-8\") as f:\n",
        "    nb = nbformat.read(f, as_version=nbformat.NO_CONVERT)\n",
        "\n",
        "widgets = nb.metadata.setdefault(\"widgets\", {})\n",
        "widgets.setdefault(\"state\", {})               #  <-- the key GitHub needs\n",
        "\n",
        "with open(nb_path, \"w\", encoding=\"utf-8\") as f:\n",
        "    nbformat.write(nb, f)\n",
        "\n",
        "print(\"✅ Added empty widgets.state — now click File ▸ Save a copy in GitHub\")\n"
      ],
      "metadata": {
        "id": "3uUlhRYd--Tt"
      },
      "execution_count": null,
      "outputs": []
    },
    {
      "cell_type": "code",
      "execution_count": null,
      "metadata": {
        "id": "OT7pe-U1kngl"
      },
      "outputs": [],
      "source": [
        "# Edit here if folders are moved\n",
        "DATA_ROOT = \"/content/drive/MyDrive/Embroidery Files\"\n",
        "IMG_DIR   = f\"{DATA_ROOT}/PNG_image_files\"   # PNGs\n",
        "DST_DIR   = f\"{DATA_ROOT}/DST_digitized_files\"   # DSTs"
      ]
    },
    {
      "cell_type": "code",
      "execution_count": null,
      "metadata": {
        "id": "2hN6wh5IktHu"
      },
      "outputs": [],
      "source": [
        "#sanity check the folders\n",
        "import pathlib, textwrap\n",
        "\n",
        "print(\"📷  sample PNG files:\")\n",
        "for p in list(pathlib.Path(IMG_DIR).glob(\"*.[pP][nN][gG]\"))[:5]:\n",
        "    print(\"   \", p.name)\n",
        "\n",
        "print(\"\\n🧵  sample DST files:\")\n",
        "for p in list(pathlib.Path(DST_DIR).glob(\"*.[dD][sS][tT]\"))[:5]:\n",
        "    print(\"   \", p.name)\n"
      ]
    },
    {
      "cell_type": "code",
      "execution_count": null,
      "metadata": {
        "id": "JhjS9OvTfT9K"
      },
      "outputs": [],
      "source": [
        "%%writefile dataset.py\n",
        "from pathlib import Path\n",
        "from PIL import Image\n",
        "import torch\n",
        "from torch.utils.data import Dataset\n",
        "from pyembroidery import read\n",
        "\n",
        "# --- file patterns -----------------------------------------------------------\n",
        "IMG_EXTS = (\"*.png\", \"*.PNG\", \"*.jpg\", \"*.JPG\")\n",
        "DST_EXTS = (\"*.dst\", \"*.DST\")\n",
        "\n",
        "class EmbroDataset(Dataset):\n",
        "    \"\"\"\n",
        "    Yields (image_tensor, stitch_tensor) pairs.\n",
        "\n",
        "    image_tensor  : C × H × W   float32 in [0, 1]\n",
        "    stitch_tensor : L × 3       (Δx, Δy, flag)  float32\n",
        "    \"\"\"\n",
        "    def __init__(self, img_dir, dst_dir, transform=None, max_len=4096):\n",
        "        img_dir, dst_dir = Path(img_dir), Path(dst_dir)\n",
        "\n",
        "        # -------- gather every image and dst file into dicts ---------------\n",
        "        img_files = {}\n",
        "        for pat in IMG_EXTS:\n",
        "            for p in img_dir.glob(pat):\n",
        "                img_files[p.stem] = p\n",
        "\n",
        "        dst_files = {}\n",
        "        for pat in DST_EXTS:\n",
        "            for d in dst_dir.glob(pat):\n",
        "                dst_files[d.stem] = d\n",
        "\n",
        "        # -------- keep only names that exist in *both* dicts --------------\n",
        "        self.common_names = sorted(img_files.keys() & dst_files.keys())\n",
        "        if not self.common_names:\n",
        "            raise RuntimeError(\"No matching (image, DST) pairs found!\")\n",
        "\n",
        "        self.img_files  = img_files\n",
        "        self.dst_files  = dst_files\n",
        "        self.transform  = transform\n",
        "        self.max_len    = max_len\n",
        "\n",
        "    # ------------------------------------------------------------------------\n",
        "    def __len__(self):\n",
        "        return len(self.common_names)\n",
        "\n",
        "    def __getitem__(self, idx):\n",
        "        name = self.common_names[idx]\n",
        "\n",
        "        # load & optionally transform image\n",
        "        img_path = self.img_files[name]\n",
        "        img = Image.open(img_path).convert(\"RGB\")\n",
        "        if self.transform:\n",
        "            img = self.transform(img)\n",
        "\n",
        "        # load DST stitches\n",
        "        dst_path  = self.dst_files[name]\n",
        "        pattern   = read(str(dst_path))\n",
        "        stitches  = torch.tensor(pattern.stitches,\n",
        "                                 dtype=torch.float32)[: self.max_len]\n",
        "\n",
        "        return img, stitches\n"
      ]
    },
    {
      "cell_type": "code",
      "execution_count": null,
      "metadata": {
        "id": "kyfHUvedlvK_"
      },
      "outputs": [],
      "source": [
        "#dont run\n",
        "\n",
        "%%writefile dataset.py\n",
        "from pathlib import Path\n",
        "from PIL import Image\n",
        "import torch\n",
        "from torch.utils.data import Dataset\n",
        "from pyembroidery import read\n",
        "\n",
        "IMG_EXTS = (\"*.png\", \"*.PNG\", \"*.jpg\", \"*.JPG\")\n",
        "DST_EXTS = (\"*.dst\", \"*.DST\")\n",
        "\n",
        "class EmbroDataset(Dataset):\n",
        "    \"\"\"\n",
        "    (image_tensor, stitch_tensor) pairs\n",
        "    image_tensor  : C×H×W  float32 [0,1]\n",
        "    stitch_tensor : L×3    (Δx, Δy, flag)\n",
        "    \"\"\"\n",
        "    def __init__(self, img_dir, dst_dir, transform=None, max_len=4096):\n",
        "        self.img_paths = []\n",
        "        for pat in IMG_EXTS:\n",
        "            self.img_paths.extend(Path(img_dir).glob(pat))\n",
        "        self.img_paths = sorted(self.img_paths)\n",
        "\n",
        "        self.dst_dir   = Path(dst_dir)\n",
        "        self.transform = transform\n",
        "        self.max_len   = max_len\n",
        "\n",
        "    def __len__(self):\n",
        "        return len(self.img_paths)\n",
        "\n",
        "    def __getitem__(self, idx):\n",
        "        img_path = self.img_paths[idx]\n",
        "        img = Image.open(img_path).convert(\"RGB\")\n",
        "        if self.transform:\n",
        "            img = self.transform(img)\n",
        "\n",
        "        stem = img_path.stem\n",
        "        for ext in DST_EXTS:\n",
        "            cand = self.dst_dir / f\"{stem}{ext[1:]}\"   # '*.dst' ➜ '.dst'\n",
        "            if cand.exists():\n",
        "                dst_path = cand\n",
        "                break\n",
        "        else:\n",
        "            raise FileNotFoundError(f\"No DST match for {stem}\")\n",
        "\n",
        "        pattern  = read(str(dst_path))\n",
        "        stitches = torch.tensor(pattern.stitches,\n",
        "                                dtype=torch.float32)[: self.max_len]\n",
        "        return img, stitches\n"
      ]
    },
    {
      "cell_type": "code",
      "execution_count": null,
      "metadata": {
        "id": "FAooU3LhlxUf"
      },
      "outputs": [],
      "source": [
        "%%writefile model.py\n",
        "import torch, torch.nn as nn\n",
        "\n",
        "class EmbroNet(nn.Module):\n",
        "    \"\"\"Tiny CNN encoder + GRU decoder baseline.\"\"\"\n",
        "    def __init__(self, hidden=256):\n",
        "        super().__init__()\n",
        "        self.encoder = nn.Sequential(\n",
        "            nn.Conv2d(3, 32, 3, 2, 1), nn.ReLU(),\n",
        "            nn.Conv2d(32, 64, 3, 2, 1), nn.ReLU(),\n",
        "            nn.Conv2d(64,128, 3, 2, 1), nn.ReLU(),\n",
        "            nn.AdaptiveAvgPool2d(1)          # 128×1×1\n",
        "        )\n",
        "        self.enc_fc  = nn.Linear(128, hidden)\n",
        "\n",
        "        self.gru     = nn.GRU(3, hidden, num_layers=2, batch_first=True)\n",
        "        self.dec_fc  = nn.Linear(hidden, 3)\n",
        "\n",
        "    def forward(self, img, prev_cmds):\n",
        "        B = img.size(0)\n",
        "        h0 = self.encoder(img).view(B, -1)      # B×128\n",
        "        h0 = torch.tanh(self.enc_fc(h0)).unsqueeze(0).repeat(2, 1, 1)\n",
        "        out, _ = self.gru(prev_cmds, h0)        # B×L×H\n",
        "        return self.dec_fc(out)                 # B×L×3\n"
      ]
    },
    {
      "cell_type": "code",
      "execution_count": null,
      "metadata": {
        "id": "uL5UIU_Tlxnz"
      },
      "outputs": [],
      "source": [
        "import torch\n",
        "import lightning as L\n",
        "from torch.utils.data import DataLoader\n",
        "from torchvision.transforms import Compose, ToTensor, Resize\n",
        "from dataset import EmbroDataset\n",
        "from model   import EmbroNet\n",
        "\n",
        "# ---------- 1. custom collate_fn ---------------------------------\n",
        "def pad_collate(batch):\n",
        "    \"\"\"\n",
        "    batch = list of (img_tensor, seq_tensor) pairs\n",
        "    Returns:\n",
        "        imgs   : B×3×128×128\n",
        "        tgt    : B×Lmax×3  (padded with 0s)\n",
        "        lens   : list[int] (original sequence lengths)\n",
        "    \"\"\"\n",
        "    imgs, seqs = zip(*batch)\n",
        "    imgs = torch.stack(imgs)                   # all same size\n",
        "\n",
        "    lens    = [s.size(0) for s in seqs]\n",
        "    Lmax    = max(lens)\n",
        "    padded  = torch.zeros(len(seqs), Lmax, 3)  # default zeros = padding\n",
        "    for i, s in enumerate(seqs):\n",
        "        padded[i, : lens[i], :] = s\n",
        "    return imgs, padded, torch.tensor(lens)\n",
        "\n",
        "# ---------- 2. LightningModule -----------------------------------\n",
        "class LitModule(L.LightningModule):\n",
        "    def __init__(self):\n",
        "        super().__init__()\n",
        "        self.net = EmbroNet()\n",
        "        self.loss_fn = torch.nn.MSELoss(reduction=\"mean\")\n",
        "\n",
        "    def forward(self, img, prev_cmds):\n",
        "        return self.net(img, prev_cmds)\n",
        "\n",
        "    def training_step(self, batch, _):\n",
        "        img, tgt, lens = batch                 # tgt: B×Lmax×3\n",
        "        pred = self(img, tgt[:, :-1])\n",
        "\n",
        "        # compute loss mask-aware\n",
        "        loss = 0.0\n",
        "        for i, L in enumerate(lens):\n",
        "            loss += self.loss_fn(pred[i, : L-1], tgt[i, 1 : L])  # valid region\n",
        "        loss = loss / len(lens)\n",
        "        self.log(\"train_loss\", loss)\n",
        "        return loss\n",
        "\n",
        "    def configure_optimizers(self):\n",
        "        return torch.optim.AdamW(self.parameters(), 1e-3)\n",
        "\n",
        "# ---------- 3. dataset & dataloader ------------------------------\n",
        "tfms = Compose([Resize((128,128)), ToTensor()])\n",
        "ds   = EmbroDataset(IMG_DIR, DST_DIR, tfms)\n",
        "print(\"Dataset length:\", len(ds))          # should be > 0\n",
        "\n",
        "dl   = DataLoader(ds,\n",
        "                  batch_size=8,\n",
        "                  shuffle=True,\n",
        "                  num_workers=0,            # change later if you like\n",
        "                  collate_fn=pad_collate)   # ← custom collate!\n",
        "\n",
        "# ---------- 4. train ---------------------------------------------\n",
        "trainer = L.Trainer(fast_dev_run=True)\n",
        "#trainer = L.Trainer(max_epochs=10,\n",
        "                    #precision=\"16-mixed\",\n",
        "                    #accelerator=\"auto\")\n",
        "trainer.fit(LitModule(), dl)\n"
      ]
    },
    {
      "cell_type": "code",
      "source": [
        "import glob, pprint, os\n",
        "\n",
        "ckpts = glob.glob(\"/content/**/*epoch*=*.ckpt\", recursive=True)\n",
        "if ckpts:\n",
        "    pprint.pp(ckpts)\n",
        "else:\n",
        "    print(\"No checkpoints found – you may need to save one first.\")"
      ],
      "metadata": {
        "id": "JeweUszAh5ov"
      },
      "execution_count": null,
      "outputs": []
    },
    {
      "cell_type": "code",
      "source": [
        "# after your training run finishes\n",
        "trainer.save_checkpoint(\"/content/drive/MyDrive/EmbroideryTests/embronet_latest.ckpt\")\n"
      ],
      "metadata": {
        "id": "elEXvBfIi7-z"
      },
      "execution_count": null,
      "outputs": []
    },
    {
      "cell_type": "code",
      "source": [
        "# (A) List any checkpoints Lightning has already saved\n",
        "import glob, pprint\n",
        "ckpts = glob.glob(\"/content/**/checkpoints/*.ckpt\", recursive=True)\n",
        "ckpts += glob.glob(\"/content/drive/**/checkpoints/*.ckpt\", recursive=True)\n",
        "pprint.pp(ckpts)\n",
        "\n",
        "# If the list prints something, copy one path:\n",
        "# CKPT_PATH = \"/content/lightning_logs/version_3/checkpoints/epoch=4-step=99.ckpt\"\n",
        "\n",
        "# (B) If the list is empty, save a quick checkpoint now (after training):\n",
        "trainer.save_checkpoint(\"/content/drive/MyDrive/EmbroideryTests/embronet.ckpt\")\n",
        "CKPT_PATH = \"/content/drive/MyDrive/EmbroideryTests/embronet.ckpt\"\n"
      ],
      "metadata": {
        "id": "GZd3T3lKqMga"
      },
      "execution_count": null,
      "outputs": []
    },
    {
      "cell_type": "code",
      "source": [
        "import os\n",
        "print(\"checkpoint exists?\", os.path.exists(CKPT_PATH))"
      ],
      "metadata": {
        "id": "165c0pq3ZEPy"
      },
      "execution_count": null,
      "outputs": []
    },
    {
      "cell_type": "code",
      "source": [
        "#### ONE THAT WILL ACTUALLY WORK\n",
        "# ================================================================\n",
        "#  1‑CELL  PNG  ➜  EmbroNet  ➜  DST\n",
        "#  (just edit the three paths + SCALE, then press ▶)\n",
        "# ================================================================\n",
        "CKPT_PATH = \"/content/drive/MyDrive/EmbroideryTests/embronet.ckpt\"  # <— your .ckpt\n",
        "PNG_PATH  = \"/content/drive/MyDrive/Embroidery Files/pngstart/MLPP_LOGO.PNG\"                 # <— input PNG\n",
        "OUT_PATH  = \"/content/drive/MyDrive/Embroidery Files/dststop/test_logo.dst\"         # <— output DST\n",
        "SCALE     = 7.0          # multiply Δx,Δy by this (set 1.0 if you trained with normalised targets)\n",
        "\n",
        "# --------------------------- code starts ---------------------------\n",
        "import torch, numpy as np\n",
        "from PIL import Image\n",
        "from torchvision.transforms import Compose, Resize, ToTensor\n",
        "from pyembroidery import EmbPattern, write\n",
        "from model import EmbroNet                                # <-- comes from model.py\n",
        "\n",
        "# --- load network -----------------------------------------------\n",
        "raw_state = torch.load(CKPT_PATH, map_location=\"cpu\")\n",
        "state     = raw_state[\"state_dict\"] if \"state_dict\" in raw_state else raw_state\n",
        "state     = {k.replace(\"net.\", \"\"): v for k, v in state.items()}   # strip \"net.\" prefix\n",
        "net = EmbroNet().eval()\n",
        "net.load_state_dict(state, strict=False)\n",
        "print(\"✓ checkpoint loaded\")\n",
        "\n",
        "# --- preprocess PNG ----------------------------------------------\n",
        "tfms = Compose([Resize((128,128)), ToTensor()])\n",
        "img  = tfms(Image.open(PNG_PATH).convert(\"RGB\")).unsqueeze(0)   # 1×3×128×128\n",
        "\n",
        "# --- autoregressive inference ------------------------------------\n",
        "MAX_LEN = 4096\n",
        "with torch.no_grad():\n",
        "    seq = torch.zeros(1, 1, 3)      # start token (Δx=Δy=flag=0)\n",
        "    for _ in range(MAX_LEN):\n",
        "        pred = net(img, seq)        # B×L×3\n",
        "        seq  = torch.cat([seq, pred[:, -1:, :]], dim=1)\n",
        "pred_seq = seq.squeeze(0)[1:]       # drop start token  (L×3)\n",
        "\n",
        "# --- rescale if needed -------------------------------------------\n",
        "pred_seq[:, :2] *= SCALE            # comment out if SCALE=1\n",
        "\n",
        "# --- build EmbPattern & save DST ---------------------------------\n",
        "pat = EmbPattern()\n",
        "x = y = 0.0\n",
        "for dx, dy, _ in pred_seq.numpy():\n",
        "    x += dx;  y += dy\n",
        "    pat.stitch(float(x), float(y))  # simple stitch; ignore flag for now\n",
        "pat.end()\n",
        "\n",
        "write(pat, OUT_PATH)\n",
        "print(\"✓ saved\", OUT_PATH)\n"
      ],
      "metadata": {
        "id": "MlXYQS4doEgT"
      },
      "execution_count": null,
      "outputs": []
    },
    {
      "cell_type": "code",
      "execution_count": null,
      "metadata": {
        "id": "ZTVlEDlYg75Y"
      },
      "outputs": [],
      "source": [
        "img, tgt = next(iter(dl))\n",
        "net = trainer.model.net.to(img.device)\n",
        "with torch.no_grad():\n",
        "    pred = net(img, tgt[:, :-1])\n",
        "print(\"GT  :\", tgt[0, :5])\n",
        "print(\"Pred:\", pred[0, :5])"
      ]
    }
  ],
  "metadata": {
    "colab": {
      "provenance": [],
      "authorship_tag": "ABX9TyMl4i3ZeNRBZqwrwjZzTrM4",
      "include_colab_link": true
    },
    "kernelspec": {
      "display_name": "Python 3",
      "name": "python3"
    },
    "language_info": {
      "name": "python"
    }
  },
  "nbformat": 4,
  "nbformat_minor": 0
}