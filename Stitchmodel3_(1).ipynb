{
  "cells": [
    {
      "cell_type": "markdown",
      "metadata": {
        "id": "view-in-github",
        "colab_type": "text"
      },
      "source": [
        "<a href=\"https://colab.research.google.com/github/matt14e/StitchAI/blob/main/Stitchmodel3_(1).ipynb\" target=\"_parent\"><img src=\"https://colab.research.google.com/assets/colab-badge.svg\" alt=\"Open In Colab\"/></a>"
      ]
    },
    {
      "cell_type": "code",
      "execution_count": 1,
      "metadata": {
        "colab": {
          "base_uri": "https://localhost:8080/"
        },
        "id": "qLNwskXOkXEr",
        "outputId": "4def4587-b884-4366-d9fa-02ce88f60453"
      },
      "outputs": [
        {
          "output_type": "stream",
          "name": "stdout",
          "text": [
            "\u001b[2K     \u001b[90m━━━━━━━━━━━━━━━━━━━━━━━━━━━━━━━━━━━━━━━━\u001b[0m \u001b[32m42.1/42.1 kB\u001b[0m \u001b[31m1.7 MB/s\u001b[0m eta \u001b[36m0:00:00\u001b[0m\n",
            "\u001b[2K   \u001b[90m━━━━━━━━━━━━━━━━━━━━━━━━━━━━━━━━━━━━━━━━\u001b[0m \u001b[32m819.0/819.0 kB\u001b[0m \u001b[31m14.9 MB/s\u001b[0m eta \u001b[36m0:00:00\u001b[0m\n",
            "\u001b[2K   \u001b[90m━━━━━━━━━━━━━━━━━━━━━━━━━━━━━━━━━━━━━━━━\u001b[0m \u001b[32m363.4/363.4 MB\u001b[0m \u001b[31m4.4 MB/s\u001b[0m eta \u001b[36m0:00:00\u001b[0m\n",
            "\u001b[2K   \u001b[90m━━━━━━━━━━━━━━━━━━━━━━━━━━━━━━━━━━━━━━━━\u001b[0m \u001b[32m13.8/13.8 MB\u001b[0m \u001b[31m101.0 MB/s\u001b[0m eta \u001b[36m0:00:00\u001b[0m\n",
            "\u001b[2K   \u001b[90m━━━━━━━━━━━━━━━━━━━━━━━━━━━━━━━━━━━━━━━━\u001b[0m \u001b[32m24.6/24.6 MB\u001b[0m \u001b[31m79.5 MB/s\u001b[0m eta \u001b[36m0:00:00\u001b[0m\n",
            "\u001b[2K   \u001b[90m━━━━━━━━━━━━━━━━━━━━━━━━━━━━━━━━━━━━━━━━\u001b[0m \u001b[32m883.7/883.7 kB\u001b[0m \u001b[31m52.4 MB/s\u001b[0m eta \u001b[36m0:00:00\u001b[0m\n",
            "\u001b[2K   \u001b[90m━━━━━━━━━━━━━━━━━━━━━━━━━━━━━━━━━━━━━━━━\u001b[0m \u001b[32m664.8/664.8 MB\u001b[0m \u001b[31m2.2 MB/s\u001b[0m eta \u001b[36m0:00:00\u001b[0m\n",
            "\u001b[2K   \u001b[90m━━━━━━━━━━━━━━━━━━━━━━━━━━━━━━━━━━━━━━━━\u001b[0m \u001b[32m211.5/211.5 MB\u001b[0m \u001b[31m5.8 MB/s\u001b[0m eta \u001b[36m0:00:00\u001b[0m\n",
            "\u001b[2K   \u001b[90m━━━━━━━━━━━━━━━━━━━━━━━━━━━━━━━━━━━━━━━━\u001b[0m \u001b[32m56.3/56.3 MB\u001b[0m \u001b[31m14.4 MB/s\u001b[0m eta \u001b[36m0:00:00\u001b[0m\n",
            "\u001b[2K   \u001b[90m━━━━━━━━━━━━━━━━━━━━━━━━━━━━━━━━━━━━━━━━\u001b[0m \u001b[32m127.9/127.9 MB\u001b[0m \u001b[31m8.1 MB/s\u001b[0m eta \u001b[36m0:00:00\u001b[0m\n",
            "\u001b[2K   \u001b[90m━━━━━━━━━━━━━━━━━━━━━━━━━━━━━━━━━━━━━━━━\u001b[0m \u001b[32m207.5/207.5 MB\u001b[0m \u001b[31m6.2 MB/s\u001b[0m eta \u001b[36m0:00:00\u001b[0m\n",
            "\u001b[2K   \u001b[90m━━━━━━━━━━━━━━━━━━━━━━━━━━━━━━━━━━━━━━━━\u001b[0m \u001b[32m21.1/21.1 MB\u001b[0m \u001b[31m88.4 MB/s\u001b[0m eta \u001b[36m0:00:00\u001b[0m\n",
            "\u001b[2K   \u001b[90m━━━━━━━━━━━━━━━━━━━━━━━━━━━━━━━━━━━━━━━━\u001b[0m \u001b[32m137.5/137.5 kB\u001b[0m \u001b[31m10.5 MB/s\u001b[0m eta \u001b[36m0:00:00\u001b[0m\n",
            "\u001b[2K   \u001b[90m━━━━━━━━━━━━━━━━━━━━━━━━━━━━━━━━━━━━━━━━\u001b[0m \u001b[32m961.5/961.5 kB\u001b[0m \u001b[31m52.6 MB/s\u001b[0m eta \u001b[36m0:00:00\u001b[0m\n",
            "\u001b[2K   \u001b[90m━━━━━━━━━━━━━━━━━━━━━━━━━━━━━━━━━━━━━━━━\u001b[0m \u001b[32m823.1/823.1 kB\u001b[0m \u001b[31m36.9 MB/s\u001b[0m eta \u001b[36m0:00:00\u001b[0m\n",
            "\u001b[?25h"
          ]
        }
      ],
      "source": [
        "!pip -q install lightning torchvision pyembroidery pillow"
      ]
    },
    {
      "cell_type": "code",
      "execution_count": 2,
      "metadata": {
        "colab": {
          "base_uri": "https://localhost:8080/"
        },
        "id": "tyrao3aZkljC",
        "outputId": "cf6132d6-e185-4072-837e-1200af144a84"
      },
      "outputs": [
        {
          "output_type": "stream",
          "name": "stdout",
          "text": [
            "Mounted at /content/drive\n"
          ]
        }
      ],
      "source": [
        "from google.colab import drive\n",
        "drive.mount('/content/drive')"
      ]
    },
    {
      "cell_type": "code",
      "execution_count": 3,
      "metadata": {
        "id": "OT7pe-U1kngl"
      },
      "outputs": [],
      "source": [
        "# Edit here if folders are moved\n",
        "DATA_ROOT = \"/content/drive/MyDrive/Embroidery Files\"\n",
        "IMG_DIR   = f\"{DATA_ROOT}/PNG_image_files\"   # PNGs\n",
        "DST_DIR   = f\"{DATA_ROOT}/DST_digitized_files\"   # DSTs"
      ]
    },
    {
      "cell_type": "code",
      "execution_count": 4,
      "metadata": {
        "colab": {
          "base_uri": "https://localhost:8080/"
        },
        "id": "2hN6wh5IktHu",
        "outputId": "c643ca64-9127-4c1d-9f73-1c17b9b49a4c"
      },
      "outputs": [
        {
          "output_type": "stream",
          "name": "stdout",
          "text": [
            "📷  sample PNG files:\n",
            "    Cod_Fish_Logo.PNG\n",
            "    MLPP_LOGO.PNG\n",
            "    LF_LOGO.PNG\n",
            "    Andrews_Logo.PNG\n",
            "    Royal_Logo.PNG\n",
            "\n",
            "🧵  sample DST files:\n",
            "    Elite.DST\n",
            "    Lehigh.DST\n",
            "    Moon-Walkaz-Text.DST\n",
            "    Kamp.DST\n",
            "    Nike.DST\n"
          ]
        }
      ],
      "source": [
        "#sanity check the folders\n",
        "import pathlib, textwrap\n",
        "\n",
        "print(\"📷  sample PNG files:\")\n",
        "for p in list(pathlib.Path(IMG_DIR).glob(\"*.[pP][nN][gG]\"))[:5]:\n",
        "    print(\"   \", p.name)\n",
        "\n",
        "print(\"\\n🧵  sample DST files:\")\n",
        "for p in list(pathlib.Path(DST_DIR).glob(\"*.[dD][sS][tT]\"))[:5]:\n",
        "    print(\"   \", p.name)\n"
      ]
    },
    {
      "cell_type": "code",
      "execution_count": 5,
      "metadata": {
        "colab": {
          "base_uri": "https://localhost:8080/"
        },
        "id": "JhjS9OvTfT9K",
        "outputId": "f38f8c96-3526-464b-b251-7e832bed0b1b"
      },
      "outputs": [
        {
          "output_type": "stream",
          "name": "stdout",
          "text": [
            "Writing dataset.py\n"
          ]
        }
      ],
      "source": [
        "%%writefile dataset.py\n",
        "from pathlib import Path\n",
        "from PIL import Image\n",
        "import torch\n",
        "from torch.utils.data import Dataset\n",
        "from pyembroidery import read\n",
        "\n",
        "# --- file patterns -----------------------------------------------------------\n",
        "IMG_EXTS = (\"*.png\", \"*.PNG\", \"*.jpg\", \"*.JPG\")\n",
        "DST_EXTS = (\"*.dst\", \"*.DST\")\n",
        "\n",
        "class EmbroDataset(Dataset):\n",
        "    \"\"\"\n",
        "    Yields (image_tensor, stitch_tensor) pairs.\n",
        "\n",
        "    image_tensor  : C × H × W   float32 in [0, 1]\n",
        "    stitch_tensor : L × 3       (Δx, Δy, flag)  float32\n",
        "    \"\"\"\n",
        "    def __init__(self, img_dir, dst_dir, transform=None, max_len=4096):\n",
        "        img_dir, dst_dir = Path(img_dir), Path(dst_dir)\n",
        "\n",
        "        # -------- gather every image and dst file into dicts ---------------\n",
        "        img_files = {}\n",
        "        for pat in IMG_EXTS:\n",
        "            for p in img_dir.glob(pat):\n",
        "                img_files[p.stem] = p\n",
        "\n",
        "        dst_files = {}\n",
        "        for pat in DST_EXTS:\n",
        "            for d in dst_dir.glob(pat):\n",
        "                dst_files[d.stem] = d\n",
        "\n",
        "        # -------- keep only names that exist in *both* dicts --------------\n",
        "        self.common_names = sorted(img_files.keys() & dst_files.keys())\n",
        "        if not self.common_names:\n",
        "            raise RuntimeError(\"No matching (image, DST) pairs found!\")\n",
        "\n",
        "        self.img_files  = img_files\n",
        "        self.dst_files  = dst_files\n",
        "        self.transform  = transform\n",
        "        self.max_len    = max_len\n",
        "\n",
        "    # ------------------------------------------------------------------------\n",
        "    def __len__(self):\n",
        "        return len(self.common_names)\n",
        "\n",
        "    def __getitem__(self, idx):\n",
        "        name = self.common_names[idx]\n",
        "\n",
        "        # load & optionally transform image\n",
        "        img_path = self.img_files[name]\n",
        "        img = Image.open(img_path).convert(\"RGB\")\n",
        "        if self.transform:\n",
        "            img = self.transform(img)\n",
        "\n",
        "        # load DST stitches\n",
        "        dst_path  = self.dst_files[name]\n",
        "        pattern   = read(str(dst_path))\n",
        "        stitches  = torch.tensor(pattern.stitches,\n",
        "                                 dtype=torch.float32)[: self.max_len]\n",
        "\n",
        "        return img, stitches\n"
      ]
    },
    {
      "cell_type": "code",
      "execution_count": null,
      "metadata": {
        "id": "kyfHUvedlvK_"
      },
      "outputs": [],
      "source": [
        "#dont run\n",
        "\n",
        "%%writefile dataset.py\n",
        "from pathlib import Path\n",
        "from PIL import Image\n",
        "import torch\n",
        "from torch.utils.data import Dataset\n",
        "from pyembroidery import read\n",
        "\n",
        "IMG_EXTS = (\"*.png\", \"*.PNG\", \"*.jpg\", \"*.JPG\")\n",
        "DST_EXTS = (\"*.dst\", \"*.DST\")\n",
        "\n",
        "class EmbroDataset(Dataset):\n",
        "    \"\"\"\n",
        "    (image_tensor, stitch_tensor) pairs\n",
        "    image_tensor  : C×H×W  float32 [0,1]\n",
        "    stitch_tensor : L×3    (Δx, Δy, flag)\n",
        "    \"\"\"\n",
        "    def __init__(self, img_dir, dst_dir, transform=None, max_len=4096):\n",
        "        self.img_paths = []\n",
        "        for pat in IMG_EXTS:\n",
        "            self.img_paths.extend(Path(img_dir).glob(pat))\n",
        "        self.img_paths = sorted(self.img_paths)\n",
        "\n",
        "        self.dst_dir   = Path(dst_dir)\n",
        "        self.transform = transform\n",
        "        self.max_len   = max_len\n",
        "\n",
        "    def __len__(self):\n",
        "        return len(self.img_paths)\n",
        "\n",
        "    def __getitem__(self, idx):\n",
        "        img_path = self.img_paths[idx]\n",
        "        img = Image.open(img_path).convert(\"RGB\")\n",
        "        if self.transform:\n",
        "            img = self.transform(img)\n",
        "\n",
        "        stem = img_path.stem\n",
        "        for ext in DST_EXTS:\n",
        "            cand = self.dst_dir / f\"{stem}{ext[1:]}\"   # '*.dst' ➜ '.dst'\n",
        "            if cand.exists():\n",
        "                dst_path = cand\n",
        "                break\n",
        "        else:\n",
        "            raise FileNotFoundError(f\"No DST match for {stem}\")\n",
        "\n",
        "        pattern  = read(str(dst_path))\n",
        "        stitches = torch.tensor(pattern.stitches,\n",
        "                                dtype=torch.float32)[: self.max_len]\n",
        "        return img, stitches\n"
      ]
    },
    {
      "cell_type": "code",
      "execution_count": 6,
      "metadata": {
        "colab": {
          "base_uri": "https://localhost:8080/"
        },
        "id": "FAooU3LhlxUf",
        "outputId": "63e9dc02-31a1-41b0-f05d-a085973a0873"
      },
      "outputs": [
        {
          "output_type": "stream",
          "name": "stdout",
          "text": [
            "Writing model.py\n"
          ]
        }
      ],
      "source": [
        "%%writefile model.py\n",
        "import torch, torch.nn as nn\n",
        "\n",
        "class EmbroNet(nn.Module):\n",
        "    \"\"\"Tiny CNN encoder + GRU decoder baseline.\"\"\"\n",
        "    def __init__(self, hidden=256):\n",
        "        super().__init__()\n",
        "        self.encoder = nn.Sequential(\n",
        "            nn.Conv2d(3, 32, 3, 2, 1), nn.ReLU(),\n",
        "            nn.Conv2d(32, 64, 3, 2, 1), nn.ReLU(),\n",
        "            nn.Conv2d(64,128, 3, 2, 1), nn.ReLU(),\n",
        "            nn.AdaptiveAvgPool2d(1)          # 128×1×1\n",
        "        )\n",
        "        self.enc_fc  = nn.Linear(128, hidden)\n",
        "\n",
        "        self.gru     = nn.GRU(3, hidden, num_layers=2, batch_first=True)\n",
        "        self.dec_fc  = nn.Linear(hidden, 3)\n",
        "\n",
        "    def forward(self, img, prev_cmds):\n",
        "        B = img.size(0)\n",
        "        h0 = self.encoder(img).view(B, -1)      # B×128\n",
        "        h0 = torch.tanh(self.enc_fc(h0)).unsqueeze(0).repeat(2, 1, 1)\n",
        "        out, _ = self.gru(prev_cmds, h0)        # B×L×H\n",
        "        return self.dec_fc(out)                 # B×L×3\n"
      ]
    },
    {
      "cell_type": "code",
      "execution_count": 7,
      "metadata": {
        "colab": {
          "base_uri": "https://localhost:8080/",
          "height": 730,
          "referenced_widgets": [
            "b17d34e022c44424a6bc8d0f1c106512",
            "16819a7a414544e187438629c6c697aa",
            "96582338494a4e07afbc8c7a119f0f88",
            "b395bf9e1d96444dbf2be9341cf659a5",
            "4f381e36b920425b988725c71b01cd00",
            "ce61899842da47408c42aee826b67884",
            "f7b229ce60ff485495167a096cb2152d",
            "dcefdbae506d4a818af42f4fbdc38c2d",
            "69fd91abb8d94af8807b1ff3830e6c9e",
            "72894760eb7849e1b5de7e4239d67b40",
            "4cbe8687264d495191fd0c03afa7047f"
          ]
        },
        "id": "uL5UIU_Tlxnz",
        "outputId": "f27bcf43-bcf5-4e82-b401-2fce0d539c64"
      },
      "outputs": [
        {
          "output_type": "stream",
          "name": "stderr",
          "text": [
            "INFO: Using default `ModelCheckpoint`. Consider installing `litmodels` package to enable `LitModelCheckpoint` for automatic upload to the Lightning model registry.\n",
            "INFO:lightning.pytorch.utilities.rank_zero:Using default `ModelCheckpoint`. Consider installing `litmodels` package to enable `LitModelCheckpoint` for automatic upload to the Lightning model registry.\n",
            "INFO: GPU available: False, used: False\n",
            "INFO:lightning.pytorch.utilities.rank_zero:GPU available: False, used: False\n",
            "INFO: TPU available: False, using: 0 TPU cores\n",
            "INFO:lightning.pytorch.utilities.rank_zero:TPU available: False, using: 0 TPU cores\n",
            "INFO: HPU available: False, using: 0 HPUs\n",
            "INFO:lightning.pytorch.utilities.rank_zero:HPU available: False, using: 0 HPUs\n",
            "INFO: Running in `fast_dev_run` mode: will run the requested loop using 1 batch(es). Logging and checkpointing is suppressed.\n",
            "INFO:lightning.pytorch.utilities.rank_zero:Running in `fast_dev_run` mode: will run the requested loop using 1 batch(es). Logging and checkpointing is suppressed.\n"
          ]
        },
        {
          "output_type": "stream",
          "name": "stdout",
          "text": [
            "Dataset length: 161\n"
          ]
        },
        {
          "output_type": "stream",
          "name": "stderr",
          "text": [
            "INFO: \n",
            "  | Name    | Type     | Params | Mode \n",
            "---------------------------------------------\n",
            "0 | net     | EmbroNet | 722 K  | train\n",
            "1 | loss_fn | MSELoss  | 0      | train\n",
            "---------------------------------------------\n",
            "722 K     Trainable params\n",
            "0         Non-trainable params\n",
            "722 K     Total params\n",
            "2.889     Total estimated model params size (MB)\n",
            "13        Modules in train mode\n",
            "0         Modules in eval mode\n",
            "INFO:lightning.pytorch.callbacks.model_summary:\n",
            "  | Name    | Type     | Params | Mode \n",
            "---------------------------------------------\n",
            "0 | net     | EmbroNet | 722 K  | train\n",
            "1 | loss_fn | MSELoss  | 0      | train\n",
            "---------------------------------------------\n",
            "722 K     Trainable params\n",
            "0         Non-trainable params\n",
            "722 K     Total params\n",
            "2.889     Total estimated model params size (MB)\n",
            "13        Modules in train mode\n",
            "0         Modules in eval mode\n"
          ]
        },
        {
          "output_type": "display_data",
          "data": {
            "text/plain": [
              "Training: |          | 0/? [00:00<?, ?it/s]"
            ],
            "application/vnd.jupyter.widget-view+json": {
              "version_major": 2,
              "version_minor": 0,
              "model_id": "b17d34e022c44424a6bc8d0f1c106512"
            }
          },
          "metadata": {}
        },
        {
          "output_type": "stream",
          "name": "stderr",
          "text": [
            "INFO: `Trainer.fit` stopped: `max_steps=1` reached.\n",
            "INFO:lightning.pytorch.utilities.rank_zero:`Trainer.fit` stopped: `max_steps=1` reached.\n"
          ]
        }
      ],
      "source": [
        "import torch\n",
        "import lightning as L\n",
        "from torch.utils.data import DataLoader\n",
        "from torchvision.transforms import Compose, ToTensor, Resize\n",
        "from dataset import EmbroDataset\n",
        "from model   import EmbroNet\n",
        "\n",
        "# ---------- 1. custom collate_fn ---------------------------------\n",
        "def pad_collate(batch):\n",
        "    \"\"\"\n",
        "    batch = list of (img_tensor, seq_tensor) pairs\n",
        "    Returns:\n",
        "        imgs   : B×3×128×128\n",
        "        tgt    : B×Lmax×3  (padded with 0s)\n",
        "        lens   : list[int] (original sequence lengths)\n",
        "    \"\"\"\n",
        "    imgs, seqs = zip(*batch)\n",
        "    imgs = torch.stack(imgs)                   # all same size\n",
        "\n",
        "    lens    = [s.size(0) for s in seqs]\n",
        "    Lmax    = max(lens)\n",
        "    padded  = torch.zeros(len(seqs), Lmax, 3)  # default zeros = padding\n",
        "    for i, s in enumerate(seqs):\n",
        "        padded[i, : lens[i], :] = s\n",
        "    return imgs, padded, torch.tensor(lens)\n",
        "\n",
        "# ---------- 2. LightningModule -----------------------------------\n",
        "class LitModule(L.LightningModule):\n",
        "    def __init__(self):\n",
        "        super().__init__()\n",
        "        self.net = EmbroNet()\n",
        "        self.loss_fn = torch.nn.MSELoss(reduction=\"mean\")\n",
        "\n",
        "    def forward(self, img, prev_cmds):\n",
        "        return self.net(img, prev_cmds)\n",
        "\n",
        "    def training_step(self, batch, _):\n",
        "        img, tgt, lens = batch                 # tgt: B×Lmax×3\n",
        "        pred = self(img, tgt[:, :-1])\n",
        "\n",
        "        # compute loss mask-aware\n",
        "        loss = 0.0\n",
        "        for i, L in enumerate(lens):\n",
        "            loss += self.loss_fn(pred[i, : L-1], tgt[i, 1 : L])  # valid region\n",
        "        loss = loss / len(lens)\n",
        "        self.log(\"train_loss\", loss)\n",
        "        return loss\n",
        "\n",
        "    def configure_optimizers(self):\n",
        "        return torch.optim.AdamW(self.parameters(), 1e-3)\n",
        "\n",
        "# ---------- 3. dataset & dataloader ------------------------------\n",
        "tfms = Compose([Resize((128,128)), ToTensor()])\n",
        "ds   = EmbroDataset(IMG_DIR, DST_DIR, tfms)\n",
        "print(\"Dataset length:\", len(ds))          # should be > 0\n",
        "\n",
        "dl   = DataLoader(ds,\n",
        "                  batch_size=8,\n",
        "                  shuffle=True,\n",
        "                  num_workers=0,            # change later if you like\n",
        "                  collate_fn=pad_collate)   # ← custom collate!\n",
        "\n",
        "# ---------- 4. train ---------------------------------------------\n",
        "trainer = L.Trainer(fast_dev_run=True)\n",
        "#trainer = L.Trainer(max_epochs=10,\n",
        "                    #precision=\"16-mixed\",\n",
        "                    #accelerator=\"auto\")\n",
        "trainer.fit(LitModule(), dl)\n"
      ]
    },
    {
      "cell_type": "code",
      "source": [
        "#Using the Model\n",
        "# ================================================================\n",
        "# 🔄  PNG  ➜  trained model  ➜  DST\n",
        "# ================================================================\n",
        "import torch, pathlib\n",
        "from PIL import Image\n",
        "from torchvision.transforms import Compose, Resize, ToTensor\n",
        "from pyembroidery import EmbPattern, write\n",
        "from model import EmbroNet            # your network definition\n",
        "\n",
        "# --- 1. paths ----------------------------------------------------\n",
        "CKPT_PATH = \"/content/lightning_logs/version_0/checkpoints/epoch=9-step=199.ckpt\"\n",
        "PNG_PATH  = \"/content/drive/MyDrive/Embroidery Files/pngstart/MLPP_LOGO.PNG\"     # <-- put your PNG here\n",
        "OUT_PATH  = \"/content/drive/MyDrive/Embroidery Files/dstend/finisheddst.DST\"\n",
        "\n",
        "# --- 2. load network --------------------------------------------\n",
        "net = EmbroNet().eval()\n",
        "state = torch.load(CKPT_PATH, map_location=\"cpu\")\n",
        "net.load_state_dict(state[\"state_dict\"] if \"state_dict\" in state else state)\n",
        "print(\"✓ checkpoint loaded\")\n",
        "\n",
        "# --- 3. preprocess PNG ------------------------------------------\n",
        "tfms = Compose([Resize((128,128)), ToTensor()])\n",
        "img  = tfms(Image.open(PNG_PATH).convert(\"RGB\")).unsqueeze(0)  # 1×3×128×128\n",
        "\n",
        "# --- 4. autoregressive inference -------------------------------\n",
        "MAX_LEN = 4096           # stop if you hit this many stitches\n",
        "with torch.no_grad():\n",
        "    seq = torch.zeros(1, 1, 3)          # start token\n",
        "    for _ in range(MAX_LEN):\n",
        "        pred = net(img, seq)            # 1×L×3\n",
        "        next_cmd = pred[:, -1:, :]\n",
        "        seq = torch.cat([seq, next_cmd], dim=1)\n",
        "\n",
        "pred_seq = seq.squeeze(0)[1:]           # drop the start token\n",
        "\n",
        "# --- 5. (optional) rescale Δx,Δy if you trained un‑normalised ----\n",
        "SCALE = 7.0           # ≈ (ground‑truth Δ)/ (predicted Δ)  ← use your ratio\n",
        "pred_seq[:, :2] *= SCALE\n",
        "\n",
        "# --- 6. build an EmbPattern -------------------------------------\n",
        "pat = EmbPattern()\n",
        "x = y = 0.0\n",
        "for dx, dy, flag in pred_seq.cpu().numpy():\n",
        "    x += dx;  y += dy\n",
        "    pat.stitch(x, y)           # you can use flag to insert JUMP/TRIM later\n",
        "pat.end()\n",
        "\n",
        "# --- 7. write DST -----------------------------------------------\n",
        "write(pat, OUT_PATH)\n",
        "print(\"✓ saved\", OUT_PATH)\n"
      ],
      "metadata": {
        "id": "6u_saYwyrwVo"
      },
      "execution_count": null,
      "outputs": []
    },
    {
      "cell_type": "code",
      "execution_count": null,
      "metadata": {
        "id": "ZTVlEDlYg75Y"
      },
      "outputs": [],
      "source": [
        "img, tgt = next(iter(dl))\n",
        "net = trainer.model.net.to(img.device)\n",
        "with torch.no_grad():\n",
        "    pred = net(img, tgt[:, :-1])\n",
        "print(\"GT  :\", tgt[0, :5])\n",
        "print(\"Pred:\", pred[0, :5])"
      ]
    }
  ],
  "metadata": {
    "colab": {
      "provenance": [],
      "authorship_tag": "ABX9TyMT/u99DtNsBmMFXLJ0lBJI",
      "include_colab_link": true
    },
    "kernelspec": {
      "display_name": "Python 3",
      "name": "python3"
    },
    "language_info": {
      "name": "python"
    },
    "widgets": {
      "application/vnd.jupyter.widget-state+json": {
        "b17d34e022c44424a6bc8d0f1c106512": {
          "model_module": "@jupyter-widgets/controls",
          "model_name": "HBoxModel",
          "model_module_version": "1.5.0",
          "state": {
            "_dom_classes": [],
            "_model_module": "@jupyter-widgets/controls",
            "_model_module_version": "1.5.0",
            "_model_name": "HBoxModel",
            "_view_count": null,
            "_view_module": "@jupyter-widgets/controls",
            "_view_module_version": "1.5.0",
            "_view_name": "HBoxView",
            "box_style": "",
            "children": [
              "IPY_MODEL_16819a7a414544e187438629c6c697aa",
              "IPY_MODEL_96582338494a4e07afbc8c7a119f0f88",
              "IPY_MODEL_b395bf9e1d96444dbf2be9341cf659a5"
            ],
            "layout": "IPY_MODEL_4f381e36b920425b988725c71b01cd00"
          }
        },
        "16819a7a414544e187438629c6c697aa": {
          "model_module": "@jupyter-widgets/controls",
          "model_name": "HTMLModel",
          "model_module_version": "1.5.0",
          "state": {
            "_dom_classes": [],
            "_model_module": "@jupyter-widgets/controls",
            "_model_module_version": "1.5.0",
            "_model_name": "HTMLModel",
            "_view_count": null,
            "_view_module": "@jupyter-widgets/controls",
            "_view_module_version": "1.5.0",
            "_view_name": "HTMLView",
            "description": "",
            "description_tooltip": null,
            "layout": "IPY_MODEL_ce61899842da47408c42aee826b67884",
            "placeholder": "​",
            "style": "IPY_MODEL_f7b229ce60ff485495167a096cb2152d",
            "value": "Epoch 0: 100%"
          }
        },
        "96582338494a4e07afbc8c7a119f0f88": {
          "model_module": "@jupyter-widgets/controls",
          "model_name": "FloatProgressModel",
          "model_module_version": "1.5.0",
          "state": {
            "_dom_classes": [],
            "_model_module": "@jupyter-widgets/controls",
            "_model_module_version": "1.5.0",
            "_model_name": "FloatProgressModel",
            "_view_count": null,
            "_view_module": "@jupyter-widgets/controls",
            "_view_module_version": "1.5.0",
            "_view_name": "ProgressView",
            "bar_style": "success",
            "description": "",
            "description_tooltip": null,
            "layout": "IPY_MODEL_dcefdbae506d4a818af42f4fbdc38c2d",
            "max": 1,
            "min": 0,
            "orientation": "horizontal",
            "style": "IPY_MODEL_69fd91abb8d94af8807b1ff3830e6c9e",
            "value": 1
          }
        },
        "b395bf9e1d96444dbf2be9341cf659a5": {
          "model_module": "@jupyter-widgets/controls",
          "model_name": "HTMLModel",
          "model_module_version": "1.5.0",
          "state": {
            "_dom_classes": [],
            "_model_module": "@jupyter-widgets/controls",
            "_model_module_version": "1.5.0",
            "_model_name": "HTMLModel",
            "_view_count": null,
            "_view_module": "@jupyter-widgets/controls",
            "_view_module_version": "1.5.0",
            "_view_name": "HTMLView",
            "description": "",
            "description_tooltip": null,
            "layout": "IPY_MODEL_72894760eb7849e1b5de7e4239d67b40",
            "placeholder": "​",
            "style": "IPY_MODEL_4cbe8687264d495191fd0c03afa7047f",
            "value": " 1/1 [00:21&lt;00:00,  0.05it/s]"
          }
        },
        "4f381e36b920425b988725c71b01cd00": {
          "model_module": "@jupyter-widgets/base",
          "model_name": "LayoutModel",
          "model_module_version": "1.2.0",
          "state": {
            "_model_module": "@jupyter-widgets/base",
            "_model_module_version": "1.2.0",
            "_model_name": "LayoutModel",
            "_view_count": null,
            "_view_module": "@jupyter-widgets/base",
            "_view_module_version": "1.2.0",
            "_view_name": "LayoutView",
            "align_content": null,
            "align_items": null,
            "align_self": null,
            "border": null,
            "bottom": null,
            "display": "inline-flex",
            "flex": null,
            "flex_flow": "row wrap",
            "grid_area": null,
            "grid_auto_columns": null,
            "grid_auto_flow": null,
            "grid_auto_rows": null,
            "grid_column": null,
            "grid_gap": null,
            "grid_row": null,
            "grid_template_areas": null,
            "grid_template_columns": null,
            "grid_template_rows": null,
            "height": null,
            "justify_content": null,
            "justify_items": null,
            "left": null,
            "margin": null,
            "max_height": null,
            "max_width": null,
            "min_height": null,
            "min_width": null,
            "object_fit": null,
            "object_position": null,
            "order": null,
            "overflow": null,
            "overflow_x": null,
            "overflow_y": null,
            "padding": null,
            "right": null,
            "top": null,
            "visibility": null,
            "width": "100%"
          }
        },
        "ce61899842da47408c42aee826b67884": {
          "model_module": "@jupyter-widgets/base",
          "model_name": "LayoutModel",
          "model_module_version": "1.2.0",
          "state": {
            "_model_module": "@jupyter-widgets/base",
            "_model_module_version": "1.2.0",
            "_model_name": "LayoutModel",
            "_view_count": null,
            "_view_module": "@jupyter-widgets/base",
            "_view_module_version": "1.2.0",
            "_view_name": "LayoutView",
            "align_content": null,
            "align_items": null,
            "align_self": null,
            "border": null,
            "bottom": null,
            "display": null,
            "flex": null,
            "flex_flow": null,
            "grid_area": null,
            "grid_auto_columns": null,
            "grid_auto_flow": null,
            "grid_auto_rows": null,
            "grid_column": null,
            "grid_gap": null,
            "grid_row": null,
            "grid_template_areas": null,
            "grid_template_columns": null,
            "grid_template_rows": null,
            "height": null,
            "justify_content": null,
            "justify_items": null,
            "left": null,
            "margin": null,
            "max_height": null,
            "max_width": null,
            "min_height": null,
            "min_width": null,
            "object_fit": null,
            "object_position": null,
            "order": null,
            "overflow": null,
            "overflow_x": null,
            "overflow_y": null,
            "padding": null,
            "right": null,
            "top": null,
            "visibility": null,
            "width": null
          }
        },
        "f7b229ce60ff485495167a096cb2152d": {
          "model_module": "@jupyter-widgets/controls",
          "model_name": "DescriptionStyleModel",
          "model_module_version": "1.5.0",
          "state": {
            "_model_module": "@jupyter-widgets/controls",
            "_model_module_version": "1.5.0",
            "_model_name": "DescriptionStyleModel",
            "_view_count": null,
            "_view_module": "@jupyter-widgets/base",
            "_view_module_version": "1.2.0",
            "_view_name": "StyleView",
            "description_width": ""
          }
        },
        "dcefdbae506d4a818af42f4fbdc38c2d": {
          "model_module": "@jupyter-widgets/base",
          "model_name": "LayoutModel",
          "model_module_version": "1.2.0",
          "state": {
            "_model_module": "@jupyter-widgets/base",
            "_model_module_version": "1.2.0",
            "_model_name": "LayoutModel",
            "_view_count": null,
            "_view_module": "@jupyter-widgets/base",
            "_view_module_version": "1.2.0",
            "_view_name": "LayoutView",
            "align_content": null,
            "align_items": null,
            "align_self": null,
            "border": null,
            "bottom": null,
            "display": null,
            "flex": "2",
            "flex_flow": null,
            "grid_area": null,
            "grid_auto_columns": null,
            "grid_auto_flow": null,
            "grid_auto_rows": null,
            "grid_column": null,
            "grid_gap": null,
            "grid_row": null,
            "grid_template_areas": null,
            "grid_template_columns": null,
            "grid_template_rows": null,
            "height": null,
            "justify_content": null,
            "justify_items": null,
            "left": null,
            "margin": null,
            "max_height": null,
            "max_width": null,
            "min_height": null,
            "min_width": null,
            "object_fit": null,
            "object_position": null,
            "order": null,
            "overflow": null,
            "overflow_x": null,
            "overflow_y": null,
            "padding": null,
            "right": null,
            "top": null,
            "visibility": null,
            "width": null
          }
        },
        "69fd91abb8d94af8807b1ff3830e6c9e": {
          "model_module": "@jupyter-widgets/controls",
          "model_name": "ProgressStyleModel",
          "model_module_version": "1.5.0",
          "state": {
            "_model_module": "@jupyter-widgets/controls",
            "_model_module_version": "1.5.0",
            "_model_name": "ProgressStyleModel",
            "_view_count": null,
            "_view_module": "@jupyter-widgets/base",
            "_view_module_version": "1.2.0",
            "_view_name": "StyleView",
            "bar_color": null,
            "description_width": ""
          }
        },
        "72894760eb7849e1b5de7e4239d67b40": {
          "model_module": "@jupyter-widgets/base",
          "model_name": "LayoutModel",
          "model_module_version": "1.2.0",
          "state": {
            "_model_module": "@jupyter-widgets/base",
            "_model_module_version": "1.2.0",
            "_model_name": "LayoutModel",
            "_view_count": null,
            "_view_module": "@jupyter-widgets/base",
            "_view_module_version": "1.2.0",
            "_view_name": "LayoutView",
            "align_content": null,
            "align_items": null,
            "align_self": null,
            "border": null,
            "bottom": null,
            "display": null,
            "flex": null,
            "flex_flow": null,
            "grid_area": null,
            "grid_auto_columns": null,
            "grid_auto_flow": null,
            "grid_auto_rows": null,
            "grid_column": null,
            "grid_gap": null,
            "grid_row": null,
            "grid_template_areas": null,
            "grid_template_columns": null,
            "grid_template_rows": null,
            "height": null,
            "justify_content": null,
            "justify_items": null,
            "left": null,
            "margin": null,
            "max_height": null,
            "max_width": null,
            "min_height": null,
            "min_width": null,
            "object_fit": null,
            "object_position": null,
            "order": null,
            "overflow": null,
            "overflow_x": null,
            "overflow_y": null,
            "padding": null,
            "right": null,
            "top": null,
            "visibility": null,
            "width": null
          }
        },
        "4cbe8687264d495191fd0c03afa7047f": {
          "model_module": "@jupyter-widgets/controls",
          "model_name": "DescriptionStyleModel",
          "model_module_version": "1.5.0",
          "state": {
            "_model_module": "@jupyter-widgets/controls",
            "_model_module_version": "1.5.0",
            "_model_name": "DescriptionStyleModel",
            "_view_count": null,
            "_view_module": "@jupyter-widgets/base",
            "_view_module_version": "1.2.0",
            "_view_name": "StyleView",
            "description_width": ""
          }
        }
      }
    }
  },
  "nbformat": 4,
  "nbformat_minor": 0
}